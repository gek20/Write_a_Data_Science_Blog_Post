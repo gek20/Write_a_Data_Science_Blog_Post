{
 "cells": [
  {
   "cell_type": "markdown",
   "source": [
    "\n",
    "#Project: Write a Data Science Blog Post"
   ],
   "metadata": {
    "collapsed": false
   }
  },
  {
   "cell_type": "markdown",
   "source": [
    "\n",
    "##Business Understanding\n",
    "    Brief description\n",
    "    0. Question :\n",
    "    0. Question :\n",
    "    0. Question :"
   ],
   "metadata": {
    "collapsed": false
   }
  },
  {
   "cell_type": "markdown",
   "source": [
    "\n",
    "##Data Understanding\n",
    "    Access and Explore the data.\n"
   ],
   "metadata": {
    "collapsed": false
   }
  },
  {
   "cell_type": "markdown",
   "source": [
    "Import the libraries and load the data"
   ],
   "metadata": {
    "collapsed": false
   }
  },
  {
   "cell_type": "code",
   "execution_count": 173,
   "outputs": [],
   "source": [
    "# import libraries\n",
    "import pandas as pd\n",
    "import numpy as np\n"
   ],
   "metadata": {
    "collapsed": false,
    "pycharm": {
     "name": "#%%\n"
    }
   }
  },
  {
   "cell_type": "code",
   "execution_count": 174,
   "outputs": [],
   "source": [
    "# load the csv file\n",
    "calendar = pd.read_csv('./calendar.csv')\n",
    "original_listing = pd.read_csv('./listings.csv')\n",
    "listing=original_listing.copy()\n",
    "reviews = pd.read_csv('./reviews.csv')"
   ],
   "metadata": {
    "collapsed": false,
    "pycharm": {
     "name": "#%%\n"
    }
   }
  },
  {
   "cell_type": "markdown",
   "source": [
    "Exploring the data"
   ],
   "metadata": {
    "collapsed": false
   }
  },
  {
   "cell_type": "code",
   "execution_count": 175,
   "outputs": [
    {
     "data": {
      "text/plain": "   listing_id        date available   price\n0      241032  2016-01-04         t  $85.00\n1      241032  2016-01-05         t  $85.00\n2      241032  2016-01-06         f     NaN\n3      241032  2016-01-07         f     NaN\n4      241032  2016-01-08         f     NaN",
      "text/html": "<div>\n<style scoped>\n    .dataframe tbody tr th:only-of-type {\n        vertical-align: middle;\n    }\n\n    .dataframe tbody tr th {\n        vertical-align: top;\n    }\n\n    .dataframe thead th {\n        text-align: right;\n    }\n</style>\n<table border=\"1\" class=\"dataframe\">\n  <thead>\n    <tr style=\"text-align: right;\">\n      <th></th>\n      <th>listing_id</th>\n      <th>date</th>\n      <th>available</th>\n      <th>price</th>\n    </tr>\n  </thead>\n  <tbody>\n    <tr>\n      <th>0</th>\n      <td>241032</td>\n      <td>2016-01-04</td>\n      <td>t</td>\n      <td>$85.00</td>\n    </tr>\n    <tr>\n      <th>1</th>\n      <td>241032</td>\n      <td>2016-01-05</td>\n      <td>t</td>\n      <td>$85.00</td>\n    </tr>\n    <tr>\n      <th>2</th>\n      <td>241032</td>\n      <td>2016-01-06</td>\n      <td>f</td>\n      <td>NaN</td>\n    </tr>\n    <tr>\n      <th>3</th>\n      <td>241032</td>\n      <td>2016-01-07</td>\n      <td>f</td>\n      <td>NaN</td>\n    </tr>\n    <tr>\n      <th>4</th>\n      <td>241032</td>\n      <td>2016-01-08</td>\n      <td>f</td>\n      <td>NaN</td>\n    </tr>\n  </tbody>\n</table>\n</div>"
     },
     "execution_count": 175,
     "metadata": {},
     "output_type": "execute_result"
    }
   ],
   "source": [
    "calendar.head()"
   ],
   "metadata": {
    "collapsed": false,
    "pycharm": {
     "name": "#%%\n"
    }
   }
  },
  {
   "cell_type": "code",
   "execution_count": 176,
   "outputs": [
    {
     "name": "stdout",
     "output_type": "stream",
     "text": [
      "<class 'pandas.core.frame.DataFrame'>\n",
      "RangeIndex: 1393570 entries, 0 to 1393569\n",
      "Data columns (total 4 columns):\n",
      " #   Column      Non-Null Count    Dtype \n",
      "---  ------      --------------    ----- \n",
      " 0   listing_id  1393570 non-null  int64 \n",
      " 1   date        1393570 non-null  object\n",
      " 2   available   1393570 non-null  object\n",
      " 3   price       934542 non-null   object\n",
      "dtypes: int64(1), object(3)\n",
      "memory usage: 42.5+ MB\n"
     ]
    }
   ],
   "source": [
    "calendar.info()"
   ],
   "metadata": {
    "collapsed": false,
    "pycharm": {
     "name": "#%%\n"
    }
   }
  },
  {
   "cell_type": "code",
   "execution_count": 177,
   "outputs": [
    {
     "data": {
      "text/plain": "        id                           listing_url       scrape_id last_scraped  \\\n0   241032   https://www.airbnb.com/rooms/241032  20160104002432   2016-01-04   \n1   953595   https://www.airbnb.com/rooms/953595  20160104002432   2016-01-04   \n2  3308979  https://www.airbnb.com/rooms/3308979  20160104002432   2016-01-04   \n3  7421966  https://www.airbnb.com/rooms/7421966  20160104002432   2016-01-04   \n4   278830   https://www.airbnb.com/rooms/278830  20160104002432   2016-01-04   \n\n                                  name  \\\n0         Stylish Queen Anne Apartment   \n1   Bright & Airy Queen Anne Apartment   \n2  New Modern House-Amazing water view   \n3                   Queen Anne Chateau   \n4       Charming craftsman 3 bdm house   \n\n                                             summary  \\\n0                                                NaN   \n1  Chemically sensitive? We've removed the irrita...   \n2  New modern house built in 2013.  Spectacular s...   \n3  A charming apartment that sits atop Queen Anne...   \n4  Cozy family craftman house in beautiful neighb...   \n\n                                               space  \\\n0  Make your self at home in this charming one-be...   \n1  Beautiful, hypoallergenic apartment in an extr...   \n2  Our house is modern, light and fresh with a wa...   \n3                                                NaN   \n4  Cozy family craftman house in beautiful neighb...   \n\n                                         description experiences_offered  \\\n0  Make your self at home in this charming one-be...                none   \n1  Chemically sensitive? We've removed the irrita...                none   \n2  New modern house built in 2013.  Spectacular s...                none   \n3  A charming apartment that sits atop Queen Anne...                none   \n4  Cozy family craftman house in beautiful neighb...                none   \n\n                               neighborhood_overview  ... review_scores_value  \\\n0                                                NaN  ...                10.0   \n1  Queen Anne is a wonderful, truly functional vi...  ...                10.0   \n2  Upper Queen Anne is a charming neighborhood fu...  ...                10.0   \n3                                                NaN  ...                 NaN   \n4  We are in the beautiful neighborhood of Queen ...  ...                 9.0   \n\n  requires_license license jurisdiction_names instant_bookable  \\\n0                f     NaN         WASHINGTON                f   \n1                f     NaN         WASHINGTON                f   \n2                f     NaN         WASHINGTON                f   \n3                f     NaN         WASHINGTON                f   \n4                f     NaN         WASHINGTON                f   \n\n  cancellation_policy  require_guest_profile_picture  \\\n0            moderate                              f   \n1              strict                              t   \n2              strict                              f   \n3            flexible                              f   \n4              strict                              f   \n\n  require_guest_phone_verification calculated_host_listings_count  \\\n0                                f                              2   \n1                                t                              6   \n2                                f                              2   \n3                                f                              1   \n4                                f                              1   \n\n  reviews_per_month  \n0              4.07  \n1              1.48  \n2              1.15  \n3               NaN  \n4              0.89  \n\n[5 rows x 92 columns]",
      "text/html": "<div>\n<style scoped>\n    .dataframe tbody tr th:only-of-type {\n        vertical-align: middle;\n    }\n\n    .dataframe tbody tr th {\n        vertical-align: top;\n    }\n\n    .dataframe thead th {\n        text-align: right;\n    }\n</style>\n<table border=\"1\" class=\"dataframe\">\n  <thead>\n    <tr style=\"text-align: right;\">\n      <th></th>\n      <th>id</th>\n      <th>listing_url</th>\n      <th>scrape_id</th>\n      <th>last_scraped</th>\n      <th>name</th>\n      <th>summary</th>\n      <th>space</th>\n      <th>description</th>\n      <th>experiences_offered</th>\n      <th>neighborhood_overview</th>\n      <th>...</th>\n      <th>review_scores_value</th>\n      <th>requires_license</th>\n      <th>license</th>\n      <th>jurisdiction_names</th>\n      <th>instant_bookable</th>\n      <th>cancellation_policy</th>\n      <th>require_guest_profile_picture</th>\n      <th>require_guest_phone_verification</th>\n      <th>calculated_host_listings_count</th>\n      <th>reviews_per_month</th>\n    </tr>\n  </thead>\n  <tbody>\n    <tr>\n      <th>0</th>\n      <td>241032</td>\n      <td>https://www.airbnb.com/rooms/241032</td>\n      <td>20160104002432</td>\n      <td>2016-01-04</td>\n      <td>Stylish Queen Anne Apartment</td>\n      <td>NaN</td>\n      <td>Make your self at home in this charming one-be...</td>\n      <td>Make your self at home in this charming one-be...</td>\n      <td>none</td>\n      <td>NaN</td>\n      <td>...</td>\n      <td>10.0</td>\n      <td>f</td>\n      <td>NaN</td>\n      <td>WASHINGTON</td>\n      <td>f</td>\n      <td>moderate</td>\n      <td>f</td>\n      <td>f</td>\n      <td>2</td>\n      <td>4.07</td>\n    </tr>\n    <tr>\n      <th>1</th>\n      <td>953595</td>\n      <td>https://www.airbnb.com/rooms/953595</td>\n      <td>20160104002432</td>\n      <td>2016-01-04</td>\n      <td>Bright &amp; Airy Queen Anne Apartment</td>\n      <td>Chemically sensitive? We've removed the irrita...</td>\n      <td>Beautiful, hypoallergenic apartment in an extr...</td>\n      <td>Chemically sensitive? We've removed the irrita...</td>\n      <td>none</td>\n      <td>Queen Anne is a wonderful, truly functional vi...</td>\n      <td>...</td>\n      <td>10.0</td>\n      <td>f</td>\n      <td>NaN</td>\n      <td>WASHINGTON</td>\n      <td>f</td>\n      <td>strict</td>\n      <td>t</td>\n      <td>t</td>\n      <td>6</td>\n      <td>1.48</td>\n    </tr>\n    <tr>\n      <th>2</th>\n      <td>3308979</td>\n      <td>https://www.airbnb.com/rooms/3308979</td>\n      <td>20160104002432</td>\n      <td>2016-01-04</td>\n      <td>New Modern House-Amazing water view</td>\n      <td>New modern house built in 2013.  Spectacular s...</td>\n      <td>Our house is modern, light and fresh with a wa...</td>\n      <td>New modern house built in 2013.  Spectacular s...</td>\n      <td>none</td>\n      <td>Upper Queen Anne is a charming neighborhood fu...</td>\n      <td>...</td>\n      <td>10.0</td>\n      <td>f</td>\n      <td>NaN</td>\n      <td>WASHINGTON</td>\n      <td>f</td>\n      <td>strict</td>\n      <td>f</td>\n      <td>f</td>\n      <td>2</td>\n      <td>1.15</td>\n    </tr>\n    <tr>\n      <th>3</th>\n      <td>7421966</td>\n      <td>https://www.airbnb.com/rooms/7421966</td>\n      <td>20160104002432</td>\n      <td>2016-01-04</td>\n      <td>Queen Anne Chateau</td>\n      <td>A charming apartment that sits atop Queen Anne...</td>\n      <td>NaN</td>\n      <td>A charming apartment that sits atop Queen Anne...</td>\n      <td>none</td>\n      <td>NaN</td>\n      <td>...</td>\n      <td>NaN</td>\n      <td>f</td>\n      <td>NaN</td>\n      <td>WASHINGTON</td>\n      <td>f</td>\n      <td>flexible</td>\n      <td>f</td>\n      <td>f</td>\n      <td>1</td>\n      <td>NaN</td>\n    </tr>\n    <tr>\n      <th>4</th>\n      <td>278830</td>\n      <td>https://www.airbnb.com/rooms/278830</td>\n      <td>20160104002432</td>\n      <td>2016-01-04</td>\n      <td>Charming craftsman 3 bdm house</td>\n      <td>Cozy family craftman house in beautiful neighb...</td>\n      <td>Cozy family craftman house in beautiful neighb...</td>\n      <td>Cozy family craftman house in beautiful neighb...</td>\n      <td>none</td>\n      <td>We are in the beautiful neighborhood of Queen ...</td>\n      <td>...</td>\n      <td>9.0</td>\n      <td>f</td>\n      <td>NaN</td>\n      <td>WASHINGTON</td>\n      <td>f</td>\n      <td>strict</td>\n      <td>f</td>\n      <td>f</td>\n      <td>1</td>\n      <td>0.89</td>\n    </tr>\n  </tbody>\n</table>\n<p>5 rows × 92 columns</p>\n</div>"
     },
     "execution_count": 177,
     "metadata": {},
     "output_type": "execute_result"
    }
   ],
   "source": [
    "listing.head()"
   ],
   "metadata": {
    "collapsed": false,
    "pycharm": {
     "name": "#%%\n"
    }
   }
  },
  {
   "cell_type": "code",
   "execution_count": 178,
   "outputs": [
    {
     "name": "stdout",
     "output_type": "stream",
     "text": [
      "<class 'pandas.core.frame.DataFrame'>\n",
      "RangeIndex: 3818 entries, 0 to 3817\n",
      "Data columns (total 92 columns):\n",
      " #   Column                            Non-Null Count  Dtype  \n",
      "---  ------                            --------------  -----  \n",
      " 0   id                                3818 non-null   int64  \n",
      " 1   listing_url                       3818 non-null   object \n",
      " 2   scrape_id                         3818 non-null   int64  \n",
      " 3   last_scraped                      3818 non-null   object \n",
      " 4   name                              3818 non-null   object \n",
      " 5   summary                           3641 non-null   object \n",
      " 6   space                             3249 non-null   object \n",
      " 7   description                       3818 non-null   object \n",
      " 8   experiences_offered               3818 non-null   object \n",
      " 9   neighborhood_overview             2786 non-null   object \n",
      " 10  notes                             2212 non-null   object \n",
      " 11  transit                           2884 non-null   object \n",
      " 12  thumbnail_url                     3498 non-null   object \n",
      " 13  medium_url                        3498 non-null   object \n",
      " 14  picture_url                       3818 non-null   object \n",
      " 15  xl_picture_url                    3498 non-null   object \n",
      " 16  host_id                           3818 non-null   int64  \n",
      " 17  host_url                          3818 non-null   object \n",
      " 18  host_name                         3816 non-null   object \n",
      " 19  host_since                        3816 non-null   object \n",
      " 20  host_location                     3810 non-null   object \n",
      " 21  host_about                        2959 non-null   object \n",
      " 22  host_response_time                3295 non-null   object \n",
      " 23  host_response_rate                3295 non-null   object \n",
      " 24  host_acceptance_rate              3045 non-null   object \n",
      " 25  host_is_superhost                 3816 non-null   object \n",
      " 26  host_thumbnail_url                3816 non-null   object \n",
      " 27  host_picture_url                  3816 non-null   object \n",
      " 28  host_neighbourhood                3518 non-null   object \n",
      " 29  host_listings_count               3816 non-null   float64\n",
      " 30  host_total_listings_count         3816 non-null   float64\n",
      " 31  host_verifications                3818 non-null   object \n",
      " 32  host_has_profile_pic              3816 non-null   object \n",
      " 33  host_identity_verified            3816 non-null   object \n",
      " 34  street                            3818 non-null   object \n",
      " 35  neighbourhood                     3402 non-null   object \n",
      " 36  neighbourhood_cleansed            3818 non-null   object \n",
      " 37  neighbourhood_group_cleansed      3818 non-null   object \n",
      " 38  city                              3818 non-null   object \n",
      " 39  state                             3818 non-null   object \n",
      " 40  zipcode                           3811 non-null   object \n",
      " 41  market                            3818 non-null   object \n",
      " 42  smart_location                    3818 non-null   object \n",
      " 43  country_code                      3818 non-null   object \n",
      " 44  country                           3818 non-null   object \n",
      " 45  latitude                          3818 non-null   float64\n",
      " 46  longitude                         3818 non-null   float64\n",
      " 47  is_location_exact                 3818 non-null   object \n",
      " 48  property_type                     3817 non-null   object \n",
      " 49  room_type                         3818 non-null   object \n",
      " 50  accommodates                      3818 non-null   int64  \n",
      " 51  bathrooms                         3802 non-null   float64\n",
      " 52  bedrooms                          3812 non-null   float64\n",
      " 53  beds                              3817 non-null   float64\n",
      " 54  bed_type                          3818 non-null   object \n",
      " 55  amenities                         3818 non-null   object \n",
      " 56  square_feet                       97 non-null     float64\n",
      " 57  price                             3818 non-null   object \n",
      " 58  weekly_price                      2009 non-null   object \n",
      " 59  monthly_price                     1517 non-null   object \n",
      " 60  security_deposit                  1866 non-null   object \n",
      " 61  cleaning_fee                      2788 non-null   object \n",
      " 62  guests_included                   3818 non-null   int64  \n",
      " 63  extra_people                      3818 non-null   object \n",
      " 64  minimum_nights                    3818 non-null   int64  \n",
      " 65  maximum_nights                    3818 non-null   int64  \n",
      " 66  calendar_updated                  3818 non-null   object \n",
      " 67  has_availability                  3818 non-null   object \n",
      " 68  availability_30                   3818 non-null   int64  \n",
      " 69  availability_60                   3818 non-null   int64  \n",
      " 70  availability_90                   3818 non-null   int64  \n",
      " 71  availability_365                  3818 non-null   int64  \n",
      " 72  calendar_last_scraped             3818 non-null   object \n",
      " 73  number_of_reviews                 3818 non-null   int64  \n",
      " 74  first_review                      3191 non-null   object \n",
      " 75  last_review                       3191 non-null   object \n",
      " 76  review_scores_rating              3171 non-null   float64\n",
      " 77  review_scores_accuracy            3160 non-null   float64\n",
      " 78  review_scores_cleanliness         3165 non-null   float64\n",
      " 79  review_scores_checkin             3160 non-null   float64\n",
      " 80  review_scores_communication       3167 non-null   float64\n",
      " 81  review_scores_location            3163 non-null   float64\n",
      " 82  review_scores_value               3162 non-null   float64\n",
      " 83  requires_license                  3818 non-null   object \n",
      " 84  license                           0 non-null      float64\n",
      " 85  jurisdiction_names                3818 non-null   object \n",
      " 86  instant_bookable                  3818 non-null   object \n",
      " 87  cancellation_policy               3818 non-null   object \n",
      " 88  require_guest_profile_picture     3818 non-null   object \n",
      " 89  require_guest_phone_verification  3818 non-null   object \n",
      " 90  calculated_host_listings_count    3818 non-null   int64  \n",
      " 91  reviews_per_month                 3191 non-null   float64\n",
      "dtypes: float64(17), int64(13), object(62)\n",
      "memory usage: 2.7+ MB\n"
     ]
    }
   ],
   "source": [
    "listing.info()"
   ],
   "metadata": {
    "collapsed": false,
    "pycharm": {
     "name": "#%%\n"
    }
   }
  },
  {
   "cell_type": "code",
   "execution_count": 179,
   "outputs": [
    {
     "data": {
      "text/plain": "        id                           listing_url       scrape_id last_scraped  \\\n0   241032   https://www.airbnb.com/rooms/241032  20160104002432   2016-01-04   \n1   953595   https://www.airbnb.com/rooms/953595  20160104002432   2016-01-04   \n2  3308979  https://www.airbnb.com/rooms/3308979  20160104002432   2016-01-04   \n3  7421966  https://www.airbnb.com/rooms/7421966  20160104002432   2016-01-04   \n4   278830   https://www.airbnb.com/rooms/278830  20160104002432   2016-01-04   \n\n                                  name  \\\n0         Stylish Queen Anne Apartment   \n1   Bright & Airy Queen Anne Apartment   \n2  New Modern House-Amazing water view   \n3                   Queen Anne Chateau   \n4       Charming craftsman 3 bdm house   \n\n                                             summary  \\\n0                                                NaN   \n1  Chemically sensitive? We've removed the irrita...   \n2  New modern house built in 2013.  Spectacular s...   \n3  A charming apartment that sits atop Queen Anne...   \n4  Cozy family craftman house in beautiful neighb...   \n\n                                               space  \\\n0  Make your self at home in this charming one-be...   \n1  Beautiful, hypoallergenic apartment in an extr...   \n2  Our house is modern, light and fresh with a wa...   \n3                                                NaN   \n4  Cozy family craftman house in beautiful neighb...   \n\n                                         description experiences_offered  \\\n0  Make your self at home in this charming one-be...                none   \n1  Chemically sensitive? We've removed the irrita...                none   \n2  New modern house built in 2013.  Spectacular s...                none   \n3  A charming apartment that sits atop Queen Anne...                none   \n4  Cozy family craftman house in beautiful neighb...                none   \n\n                               neighborhood_overview  ... review_scores_value  \\\n0                                                NaN  ...                10.0   \n1  Queen Anne is a wonderful, truly functional vi...  ...                10.0   \n2  Upper Queen Anne is a charming neighborhood fu...  ...                10.0   \n3                                                NaN  ...                 NaN   \n4  We are in the beautiful neighborhood of Queen ...  ...                 9.0   \n\n  requires_license license jurisdiction_names instant_bookable  \\\n0                f     NaN         WASHINGTON                f   \n1                f     NaN         WASHINGTON                f   \n2                f     NaN         WASHINGTON                f   \n3                f     NaN         WASHINGTON                f   \n4                f     NaN         WASHINGTON                f   \n\n  cancellation_policy  require_guest_profile_picture  \\\n0            moderate                              f   \n1              strict                              t   \n2              strict                              f   \n3            flexible                              f   \n4              strict                              f   \n\n  require_guest_phone_verification calculated_host_listings_count  \\\n0                                f                              2   \n1                                t                              6   \n2                                f                              2   \n3                                f                              1   \n4                                f                              1   \n\n  reviews_per_month  \n0              4.07  \n1              1.48  \n2              1.15  \n3               NaN  \n4              0.89  \n\n[5 rows x 92 columns]",
      "text/html": "<div>\n<style scoped>\n    .dataframe tbody tr th:only-of-type {\n        vertical-align: middle;\n    }\n\n    .dataframe tbody tr th {\n        vertical-align: top;\n    }\n\n    .dataframe thead th {\n        text-align: right;\n    }\n</style>\n<table border=\"1\" class=\"dataframe\">\n  <thead>\n    <tr style=\"text-align: right;\">\n      <th></th>\n      <th>id</th>\n      <th>listing_url</th>\n      <th>scrape_id</th>\n      <th>last_scraped</th>\n      <th>name</th>\n      <th>summary</th>\n      <th>space</th>\n      <th>description</th>\n      <th>experiences_offered</th>\n      <th>neighborhood_overview</th>\n      <th>...</th>\n      <th>review_scores_value</th>\n      <th>requires_license</th>\n      <th>license</th>\n      <th>jurisdiction_names</th>\n      <th>instant_bookable</th>\n      <th>cancellation_policy</th>\n      <th>require_guest_profile_picture</th>\n      <th>require_guest_phone_verification</th>\n      <th>calculated_host_listings_count</th>\n      <th>reviews_per_month</th>\n    </tr>\n  </thead>\n  <tbody>\n    <tr>\n      <th>0</th>\n      <td>241032</td>\n      <td>https://www.airbnb.com/rooms/241032</td>\n      <td>20160104002432</td>\n      <td>2016-01-04</td>\n      <td>Stylish Queen Anne Apartment</td>\n      <td>NaN</td>\n      <td>Make your self at home in this charming one-be...</td>\n      <td>Make your self at home in this charming one-be...</td>\n      <td>none</td>\n      <td>NaN</td>\n      <td>...</td>\n      <td>10.0</td>\n      <td>f</td>\n      <td>NaN</td>\n      <td>WASHINGTON</td>\n      <td>f</td>\n      <td>moderate</td>\n      <td>f</td>\n      <td>f</td>\n      <td>2</td>\n      <td>4.07</td>\n    </tr>\n    <tr>\n      <th>1</th>\n      <td>953595</td>\n      <td>https://www.airbnb.com/rooms/953595</td>\n      <td>20160104002432</td>\n      <td>2016-01-04</td>\n      <td>Bright &amp; Airy Queen Anne Apartment</td>\n      <td>Chemically sensitive? We've removed the irrita...</td>\n      <td>Beautiful, hypoallergenic apartment in an extr...</td>\n      <td>Chemically sensitive? We've removed the irrita...</td>\n      <td>none</td>\n      <td>Queen Anne is a wonderful, truly functional vi...</td>\n      <td>...</td>\n      <td>10.0</td>\n      <td>f</td>\n      <td>NaN</td>\n      <td>WASHINGTON</td>\n      <td>f</td>\n      <td>strict</td>\n      <td>t</td>\n      <td>t</td>\n      <td>6</td>\n      <td>1.48</td>\n    </tr>\n    <tr>\n      <th>2</th>\n      <td>3308979</td>\n      <td>https://www.airbnb.com/rooms/3308979</td>\n      <td>20160104002432</td>\n      <td>2016-01-04</td>\n      <td>New Modern House-Amazing water view</td>\n      <td>New modern house built in 2013.  Spectacular s...</td>\n      <td>Our house is modern, light and fresh with a wa...</td>\n      <td>New modern house built in 2013.  Spectacular s...</td>\n      <td>none</td>\n      <td>Upper Queen Anne is a charming neighborhood fu...</td>\n      <td>...</td>\n      <td>10.0</td>\n      <td>f</td>\n      <td>NaN</td>\n      <td>WASHINGTON</td>\n      <td>f</td>\n      <td>strict</td>\n      <td>f</td>\n      <td>f</td>\n      <td>2</td>\n      <td>1.15</td>\n    </tr>\n    <tr>\n      <th>3</th>\n      <td>7421966</td>\n      <td>https://www.airbnb.com/rooms/7421966</td>\n      <td>20160104002432</td>\n      <td>2016-01-04</td>\n      <td>Queen Anne Chateau</td>\n      <td>A charming apartment that sits atop Queen Anne...</td>\n      <td>NaN</td>\n      <td>A charming apartment that sits atop Queen Anne...</td>\n      <td>none</td>\n      <td>NaN</td>\n      <td>...</td>\n      <td>NaN</td>\n      <td>f</td>\n      <td>NaN</td>\n      <td>WASHINGTON</td>\n      <td>f</td>\n      <td>flexible</td>\n      <td>f</td>\n      <td>f</td>\n      <td>1</td>\n      <td>NaN</td>\n    </tr>\n    <tr>\n      <th>4</th>\n      <td>278830</td>\n      <td>https://www.airbnb.com/rooms/278830</td>\n      <td>20160104002432</td>\n      <td>2016-01-04</td>\n      <td>Charming craftsman 3 bdm house</td>\n      <td>Cozy family craftman house in beautiful neighb...</td>\n      <td>Cozy family craftman house in beautiful neighb...</td>\n      <td>Cozy family craftman house in beautiful neighb...</td>\n      <td>none</td>\n      <td>We are in the beautiful neighborhood of Queen ...</td>\n      <td>...</td>\n      <td>9.0</td>\n      <td>f</td>\n      <td>NaN</td>\n      <td>WASHINGTON</td>\n      <td>f</td>\n      <td>strict</td>\n      <td>f</td>\n      <td>f</td>\n      <td>1</td>\n      <td>0.89</td>\n    </tr>\n  </tbody>\n</table>\n<p>5 rows × 92 columns</p>\n</div>"
     },
     "execution_count": 179,
     "metadata": {},
     "output_type": "execute_result"
    }
   ],
   "source": [
    "listing.head()"
   ],
   "metadata": {
    "collapsed": false,
    "pycharm": {
     "name": "#%%\n"
    }
   }
  },
  {
   "cell_type": "code",
   "execution_count": 180,
   "outputs": [
    {
     "data": {
      "text/plain": "   listing_id        id        date  reviewer_id reviewer_name  \\\n0     7202016  38917982  2015-07-19     28943674        Bianca   \n1     7202016  39087409  2015-07-20     32440555         Frank   \n2     7202016  39820030  2015-07-26     37722850           Ian   \n3     7202016  40813543  2015-08-02     33671805        George   \n4     7202016  41986501  2015-08-10     34959538          Ming   \n\n                                            comments  \n0  Cute and cozy place. Perfect location to every...  \n1  Kelly has a great room in a very central locat...  \n2  Very spacious apartment, and in a great neighb...  \n3  Close to Seattle Center and all it has to offe...  \n4  Kelly was a great host and very accommodating ...  ",
      "text/html": "<div>\n<style scoped>\n    .dataframe tbody tr th:only-of-type {\n        vertical-align: middle;\n    }\n\n    .dataframe tbody tr th {\n        vertical-align: top;\n    }\n\n    .dataframe thead th {\n        text-align: right;\n    }\n</style>\n<table border=\"1\" class=\"dataframe\">\n  <thead>\n    <tr style=\"text-align: right;\">\n      <th></th>\n      <th>listing_id</th>\n      <th>id</th>\n      <th>date</th>\n      <th>reviewer_id</th>\n      <th>reviewer_name</th>\n      <th>comments</th>\n    </tr>\n  </thead>\n  <tbody>\n    <tr>\n      <th>0</th>\n      <td>7202016</td>\n      <td>38917982</td>\n      <td>2015-07-19</td>\n      <td>28943674</td>\n      <td>Bianca</td>\n      <td>Cute and cozy place. Perfect location to every...</td>\n    </tr>\n    <tr>\n      <th>1</th>\n      <td>7202016</td>\n      <td>39087409</td>\n      <td>2015-07-20</td>\n      <td>32440555</td>\n      <td>Frank</td>\n      <td>Kelly has a great room in a very central locat...</td>\n    </tr>\n    <tr>\n      <th>2</th>\n      <td>7202016</td>\n      <td>39820030</td>\n      <td>2015-07-26</td>\n      <td>37722850</td>\n      <td>Ian</td>\n      <td>Very spacious apartment, and in a great neighb...</td>\n    </tr>\n    <tr>\n      <th>3</th>\n      <td>7202016</td>\n      <td>40813543</td>\n      <td>2015-08-02</td>\n      <td>33671805</td>\n      <td>George</td>\n      <td>Close to Seattle Center and all it has to offe...</td>\n    </tr>\n    <tr>\n      <th>4</th>\n      <td>7202016</td>\n      <td>41986501</td>\n      <td>2015-08-10</td>\n      <td>34959538</td>\n      <td>Ming</td>\n      <td>Kelly was a great host and very accommodating ...</td>\n    </tr>\n  </tbody>\n</table>\n</div>"
     },
     "execution_count": 180,
     "metadata": {},
     "output_type": "execute_result"
    }
   ],
   "source": [
    "reviews.head()"
   ],
   "metadata": {
    "collapsed": false,
    "pycharm": {
     "name": "#%%\n"
    }
   }
  },
  {
   "cell_type": "markdown",
   "source": [
    "Prepare Data\n",
    "    Clean\n",
    "\n",
    "Data cleaning:\n",
    "Main Problems:\n",
    "- prices are \"object\" pandas type (str or mixed) -> we want float\n",
    "- dates are \"object\" pandas type (str or mixed) -> we want Date\n",
    "- zipcode are \"object\" pandas type (str or mixed) -> we want int\n",
    "- handling null (NaN) values\n",
    "- boolean values t/f -> we want 1/0"
   ],
   "metadata": {
    "collapsed": false
   }
  },
  {
   "cell_type": "markdown",
   "source": [
    "Cleaning calendar dataframe:"
   ],
   "metadata": {
    "collapsed": false
   }
  },
  {
   "cell_type": "code",
   "execution_count": 181,
   "outputs": [],
   "source": [
    "def format_prices(dataframe,columns):\n",
    "    for colum in columns:\n",
    "        dataframe[colum] = dataframe[colum].replace({'\\$':''}, regex=True)\n",
    "        dataframe[colum] = dataframe[colum].replace({',':''}, regex=True)\n",
    "        dataframe[colum]= dataframe[colum].astype(float)\n",
    "    return dataframe"
   ],
   "metadata": {
    "collapsed": false,
    "pycharm": {
     "name": "#%%\n"
    }
   }
  },
  {
   "cell_type": "code",
   "execution_count": 182,
   "outputs": [
    {
     "data": {
      "text/plain": "listing_id             int64\ndate          datetime64[ns]\navailable              int64\nprice                float64\ndtype: object"
     },
     "execution_count": 182,
     "metadata": {},
     "output_type": "execute_result"
    }
   ],
   "source": [
    "# remove the dollar sign and the comma\n",
    "calendar = format_prices(calendar,['price'])\n",
    "\n",
    "# convert t / f to 1 and 0\n",
    "calendar[\"available\"] = calendar[\"available\"].replace({'t': 1, 'f': 0})\n",
    "\n",
    "# convert to datetime\n",
    "calendar['date'] = pd.to_datetime(calendar['date'])\n",
    "#check types after that\n",
    "calendar.dtypes"
   ],
   "metadata": {
    "collapsed": false,
    "pycharm": {
     "name": "#%%\n"
    }
   }
  },
  {
   "cell_type": "code",
   "execution_count": 183,
   "outputs": [
    {
     "data": {
      "text/plain": "   listing_id       date  available  price\n0      241032 2016-01-04          1   85.0\n1      241032 2016-01-05          1   85.0\n2      241032 2016-01-06          0    NaN\n3      241032 2016-01-07          0    NaN\n4      241032 2016-01-08          0    NaN",
      "text/html": "<div>\n<style scoped>\n    .dataframe tbody tr th:only-of-type {\n        vertical-align: middle;\n    }\n\n    .dataframe tbody tr th {\n        vertical-align: top;\n    }\n\n    .dataframe thead th {\n        text-align: right;\n    }\n</style>\n<table border=\"1\" class=\"dataframe\">\n  <thead>\n    <tr style=\"text-align: right;\">\n      <th></th>\n      <th>listing_id</th>\n      <th>date</th>\n      <th>available</th>\n      <th>price</th>\n    </tr>\n  </thead>\n  <tbody>\n    <tr>\n      <th>0</th>\n      <td>241032</td>\n      <td>2016-01-04</td>\n      <td>1</td>\n      <td>85.0</td>\n    </tr>\n    <tr>\n      <th>1</th>\n      <td>241032</td>\n      <td>2016-01-05</td>\n      <td>1</td>\n      <td>85.0</td>\n    </tr>\n    <tr>\n      <th>2</th>\n      <td>241032</td>\n      <td>2016-01-06</td>\n      <td>0</td>\n      <td>NaN</td>\n    </tr>\n    <tr>\n      <th>3</th>\n      <td>241032</td>\n      <td>2016-01-07</td>\n      <td>0</td>\n      <td>NaN</td>\n    </tr>\n    <tr>\n      <th>4</th>\n      <td>241032</td>\n      <td>2016-01-08</td>\n      <td>0</td>\n      <td>NaN</td>\n    </tr>\n  </tbody>\n</table>\n</div>"
     },
     "execution_count": 183,
     "metadata": {},
     "output_type": "execute_result"
    }
   ],
   "source": [
    "calendar.head()"
   ],
   "metadata": {
    "collapsed": false,
    "pycharm": {
     "name": "#%%\n"
    }
   }
  },
  {
   "cell_type": "code",
   "execution_count": 184,
   "outputs": [
    {
     "data": {
      "text/plain": "        id   host_id neighbourhood_cleansed neighbourhood_group_cleansed  \\\n0   241032    956883        West Queen Anne                   Queen Anne   \n1   953595   5177328        West Queen Anne                   Queen Anne   \n2  3308979  16708587        West Queen Anne                   Queen Anne   \n4   278830   1452570        West Queen Anne                   Queen Anne   \n5  5956968    326758        West Queen Anne                   Queen Anne   \n\n      city   latitude   longitude property_type        room_type  \\\n0  Seattle  47.636289 -122.371025     Apartment  Entire home/apt   \n1  Seattle  47.639123 -122.365666     Apartment  Entire home/apt   \n2  Seattle  47.629724 -122.369483         House  Entire home/apt   \n4  Seattle  47.632918 -122.372471         House  Entire home/apt   \n5  Seattle  47.630525 -122.366174         House     Private room   \n\n   accommodates  ...                                          amenities  \\\n0             4  ...  {TV,\"Cable TV\",Internet,\"Wireless Internet\",\"A...   \n1             4  ...  {TV,Internet,\"Wireless Internet\",Kitchen,\"Free...   \n2            11  ...  {TV,\"Cable TV\",Internet,\"Wireless Internet\",\"A...   \n4             6  ...  {TV,\"Cable TV\",Internet,\"Wireless Internet\",Ki...   \n5             2  ...  {\"Wireless Internet\",\"Free Parking on Premises...   \n\n   price  cleaning_fee guests_included minimum_nights  maximum_nights  \\\n0   85.0           0.0               2              1             365   \n1  150.0          40.0               1              2              90   \n2  975.0         300.0              10              4              30   \n4  450.0         125.0               6              1            1125   \n5  120.0          40.0               1              1               6   \n\n   number_of_reviews  review_scores_rating  cancellation_policy  \\\n0                207                  95.0             moderate   \n1                 43                  96.0               strict   \n2                 20                  97.0               strict   \n4                 38                  92.0               strict   \n5                 17                  95.0               strict   \n\n   reviews_per_month  \n0               4.07  \n1               1.48  \n2               1.15  \n4               0.89  \n5               2.45  \n\n[5 rows x 24 columns]",
      "text/html": "<div>\n<style scoped>\n    .dataframe tbody tr th:only-of-type {\n        vertical-align: middle;\n    }\n\n    .dataframe tbody tr th {\n        vertical-align: top;\n    }\n\n    .dataframe thead th {\n        text-align: right;\n    }\n</style>\n<table border=\"1\" class=\"dataframe\">\n  <thead>\n    <tr style=\"text-align: right;\">\n      <th></th>\n      <th>id</th>\n      <th>host_id</th>\n      <th>neighbourhood_cleansed</th>\n      <th>neighbourhood_group_cleansed</th>\n      <th>city</th>\n      <th>latitude</th>\n      <th>longitude</th>\n      <th>property_type</th>\n      <th>room_type</th>\n      <th>accommodates</th>\n      <th>...</th>\n      <th>amenities</th>\n      <th>price</th>\n      <th>cleaning_fee</th>\n      <th>guests_included</th>\n      <th>minimum_nights</th>\n      <th>maximum_nights</th>\n      <th>number_of_reviews</th>\n      <th>review_scores_rating</th>\n      <th>cancellation_policy</th>\n      <th>reviews_per_month</th>\n    </tr>\n  </thead>\n  <tbody>\n    <tr>\n      <th>0</th>\n      <td>241032</td>\n      <td>956883</td>\n      <td>West Queen Anne</td>\n      <td>Queen Anne</td>\n      <td>Seattle</td>\n      <td>47.636289</td>\n      <td>-122.371025</td>\n      <td>Apartment</td>\n      <td>Entire home/apt</td>\n      <td>4</td>\n      <td>...</td>\n      <td>{TV,\"Cable TV\",Internet,\"Wireless Internet\",\"A...</td>\n      <td>85.0</td>\n      <td>0.0</td>\n      <td>2</td>\n      <td>1</td>\n      <td>365</td>\n      <td>207</td>\n      <td>95.0</td>\n      <td>moderate</td>\n      <td>4.07</td>\n    </tr>\n    <tr>\n      <th>1</th>\n      <td>953595</td>\n      <td>5177328</td>\n      <td>West Queen Anne</td>\n      <td>Queen Anne</td>\n      <td>Seattle</td>\n      <td>47.639123</td>\n      <td>-122.365666</td>\n      <td>Apartment</td>\n      <td>Entire home/apt</td>\n      <td>4</td>\n      <td>...</td>\n      <td>{TV,Internet,\"Wireless Internet\",Kitchen,\"Free...</td>\n      <td>150.0</td>\n      <td>40.0</td>\n      <td>1</td>\n      <td>2</td>\n      <td>90</td>\n      <td>43</td>\n      <td>96.0</td>\n      <td>strict</td>\n      <td>1.48</td>\n    </tr>\n    <tr>\n      <th>2</th>\n      <td>3308979</td>\n      <td>16708587</td>\n      <td>West Queen Anne</td>\n      <td>Queen Anne</td>\n      <td>Seattle</td>\n      <td>47.629724</td>\n      <td>-122.369483</td>\n      <td>House</td>\n      <td>Entire home/apt</td>\n      <td>11</td>\n      <td>...</td>\n      <td>{TV,\"Cable TV\",Internet,\"Wireless Internet\",\"A...</td>\n      <td>975.0</td>\n      <td>300.0</td>\n      <td>10</td>\n      <td>4</td>\n      <td>30</td>\n      <td>20</td>\n      <td>97.0</td>\n      <td>strict</td>\n      <td>1.15</td>\n    </tr>\n    <tr>\n      <th>4</th>\n      <td>278830</td>\n      <td>1452570</td>\n      <td>West Queen Anne</td>\n      <td>Queen Anne</td>\n      <td>Seattle</td>\n      <td>47.632918</td>\n      <td>-122.372471</td>\n      <td>House</td>\n      <td>Entire home/apt</td>\n      <td>6</td>\n      <td>...</td>\n      <td>{TV,\"Cable TV\",Internet,\"Wireless Internet\",Ki...</td>\n      <td>450.0</td>\n      <td>125.0</td>\n      <td>6</td>\n      <td>1</td>\n      <td>1125</td>\n      <td>38</td>\n      <td>92.0</td>\n      <td>strict</td>\n      <td>0.89</td>\n    </tr>\n    <tr>\n      <th>5</th>\n      <td>5956968</td>\n      <td>326758</td>\n      <td>West Queen Anne</td>\n      <td>Queen Anne</td>\n      <td>Seattle</td>\n      <td>47.630525</td>\n      <td>-122.366174</td>\n      <td>House</td>\n      <td>Private room</td>\n      <td>2</td>\n      <td>...</td>\n      <td>{\"Wireless Internet\",\"Free Parking on Premises...</td>\n      <td>120.0</td>\n      <td>40.0</td>\n      <td>1</td>\n      <td>1</td>\n      <td>6</td>\n      <td>17</td>\n      <td>95.0</td>\n      <td>strict</td>\n      <td>2.45</td>\n    </tr>\n  </tbody>\n</table>\n<p>5 rows × 24 columns</p>\n</div>"
     },
     "execution_count": 184,
     "metadata": {},
     "output_type": "execute_result"
    }
   ],
   "source": [
    "# we select the columns we want to keep. (we discarded some of them like \"squere feet\" due to the lack of information\n",
    "columns_list_keep=['id','host_id', 'neighbourhood_cleansed','neighbourhood_group_cleansed', 'city', 'latitude', 'longitude', 'property_type', 'room_type', 'accommodates',\n",
    "       'bathrooms', 'bedrooms', 'beds', 'bed_type', 'amenities',\n",
    "       'price', 'cleaning_fee', 'guests_included', 'minimum_nights',\n",
    "       'maximum_nights', 'number_of_reviews', 'review_scores_rating', 'cancellation_policy',\n",
    "       'reviews_per_month']\n",
    "\n",
    "listing=listing[columns_list_keep]\n",
    "\n",
    "# few have nan as bathrooms and bedrooms. I'll set the default value to 0. Could be a studio apartment or a room in a house without the private bathroom\n",
    "listing['bathrooms'] = listing['bathrooms'].fillna(0)\n",
    "listing['bedrooms'] = listing['bedrooms'].fillna(0)\n",
    "# there are few nan property type. We can set a default value \"Other\" not to lose them.\n",
    "listing['property_type'] = listing['property_type'].fillna(\"Other\")\n",
    "\n",
    "# set the default cleaning_fee to 0\n",
    "listing['cleaning_fee'] = listing['cleaning_fee'].fillna(\"$0\")\n",
    "# remove the locations without reviews\n",
    "listing =listing[~listing['review_scores_rating'].isna()]\n",
    "# remove the dollar sign and the comma\n",
    "listing = format_prices(listing, ['price', 'cleaning_fee'])\n",
    "\n",
    "listing.head()"
   ],
   "metadata": {
    "collapsed": false,
    "pycharm": {
     "name": "#%%\n"
    }
   }
  },
  {
   "cell_type": "code",
   "execution_count": 185,
   "outputs": [
    {
     "data": {
      "text/plain": "id                                int64\nhost_id                           int64\nneighbourhood_cleansed           object\nneighbourhood_group_cleansed     object\ncity                             object\nlatitude                        float64\nlongitude                       float64\nproperty_type                    object\nroom_type                        object\naccommodates                      int64\nbathrooms                       float64\nbedrooms                        float64\nbeds                            float64\nbed_type                         object\namenities                        object\nprice                           float64\ncleaning_fee                    float64\nguests_included                   int64\nminimum_nights                    int64\nmaximum_nights                    int64\nnumber_of_reviews                 int64\nreview_scores_rating            float64\ncancellation_policy              object\nreviews_per_month               float64\ndtype: object"
     },
     "execution_count": 185,
     "metadata": {},
     "output_type": "execute_result"
    }
   ],
   "source": [
    "listing.dtypes"
   ],
   "metadata": {
    "collapsed": false,
    "pycharm": {
     "name": "#%%\n"
    }
   }
  },
  {
   "cell_type": "markdown",
   "source": [
    "DATA VISUALIZATION:Data Modeling (Optional)\n",
    "    Fit model\n",
    "    validate the model\n",
    "Evaluation\n",
    "    Question 1\n",
    "        Analyse\n",
    "        Visualise\n",
    "        Brief explanation for visualisation\n",
    "    Question 2\n",
    "        Analyse\n",
    "        Visualise\n",
    "        Brief explanation for visualisation\n",
    "    Question 3\n",
    "        Analyse\n",
    "        Visualise\n",
    "        Brief explanation for visualisation"
   ],
   "metadata": {
    "collapsed": false
   }
  },
  {
   "cell_type": "code",
   "execution_count": 186,
   "outputs": [],
   "source": [
    "import datetime as dt\n",
    "import matplotlib.pyplot as plt\n",
    "import seaborn as sns\n",
    "import colorcet as cc\n",
    "from sklearn import linear_model\n",
    "from sklearn.model_selection import train_test_split\n",
    "from sklearn.metrics import r2_score, mean_squared_error"
   ],
   "metadata": {
    "collapsed": false,
    "pycharm": {
     "name": "#%%\n"
    }
   }
  },
  {
   "cell_type": "code",
   "execution_count": 187,
   "outputs": [],
   "source": [
    "total_apt = len(listing)\n",
    "# I don't want to use the default \"Other neighborhoods\" but I'll take the name of the neighborhoods instead of the group name\n",
    "listing['neighbourhood_group_cleansed'] = np.where(listing['neighbourhood_group_cleansed']==\"Other neighborhoods\",listing['neighbourhood_cleansed'],listing['neighbourhood_group_cleansed'])"
   ],
   "metadata": {
    "collapsed": false,
    "pycharm": {
     "name": "#%%\n"
    }
   }
  },
  {
   "cell_type": "code",
   "execution_count": 188,
   "outputs": [],
   "source": [
    "def plot_graphs_location_distribution(listing,name=\"0\"):\n",
    "    neighbourhood_count = listing['neighbourhood_group_cleansed'].value_counts()\n",
    "    neighbourhood_count = neighbourhood_count.to_frame().reset_index()\n",
    "    neighbourhood_count = neighbourhood_count.rename({'index':'neighbourhood_group_cleansed', 'neighbourhood_group_cleansed':'count'}, axis=1)\n",
    "\n",
    "\n",
    "    color_labels = list(neighbourhood_count['neighbourhood_group_cleansed'].unique())\n",
    "    # List of colors in the color palettes\n",
    "    rgb_values = sns.color_palette(cc.glasbey, len(color_labels))\n",
    "\n",
    "\n",
    "    # Map continents to the colors\n",
    "    color_map = dict(zip(color_labels, rgb_values))\n",
    "    fig, axes = plt.subplots(nrows=1, ncols=2,figsize=(30, 12), dpi=80)\n",
    "    for neighborhood in color_labels:\n",
    "        x = listing[listing['neighbourhood_group_cleansed'] == neighborhood]\n",
    "        axes[0].scatter(x=x['longitude'],y=x['latitude'] , color = color_map[neighborhood], label = neighborhood)\n",
    "    #ax.scatter(x=listing['longitude'],y=listing['latitude'] , c=listing['neighbourhood_group_cleansed'].map(color_map))\n",
    "    axes[0].axis('equal')\n",
    "    axes[0].legend()\n",
    "    axes[0].set_xlabel('Longitude')\n",
    "    axes[0].set_ylabel('Latitude')\n",
    "    axes[0].set_title('Location in Seattle')\n",
    "\n",
    "\n",
    "    axes[1].bar(neighbourhood_count['neighbourhood_group_cleansed'], neighbourhood_count['count'], color=rgb_values)\n",
    "    axes[1].set_xlabel('Neighbourhood Group')\n",
    "    axes[1].set_ylabel('# of Location')\n",
    "    axes[1].set_title('Distribution Among Neighborhood')\n",
    "\n",
    "    plt.xticks(rotation=45,ha='right')\n",
    "\n",
    "    fig.savefig('./seattle_map_{}.png'.format(name))\n",
    "    return neighbourhood_count.head(4)"
   ],
   "metadata": {
    "collapsed": false,
    "pycharm": {
     "name": "#%%\n"
    }
   }
  },
  {
   "cell_type": "code",
   "execution_count": null,
   "outputs": [],
   "source": [
    "top_4 = plot_graphs_location_distribution(listing, \"all\")"
   ],
   "metadata": {
    "collapsed": false,
    "pycharm": {
     "name": "#%%\n",
     "is_executing": true
    }
   }
  },
  {
   "cell_type": "markdown",
   "source": [
    "We can see from the two graphs that the areas with the higher apartment/houses in AirBnB are situate in the center of Seattle and they are:\n"
   ],
   "metadata": {
    "collapsed": false
   }
  },
  {
   "cell_type": "code",
   "execution_count": null,
   "outputs": [],
   "source": [
    "top_4"
   ],
   "metadata": {
    "collapsed": false,
    "pycharm": {
     "name": "#%%\n",
     "is_executing": true
    }
   }
  },
  {
   "cell_type": "code",
   "execution_count": null,
   "outputs": [],
   "source": [
    "new_listing = listing[listing[\"neighbourhood_group_cleansed\"].isin([\"Capitol Hill\", \"Central Area\", \"Downtown\", \"Queen Anne\"])]"
   ],
   "metadata": {
    "collapsed": false,
    "pycharm": {
     "name": "#%%\n",
     "is_executing": true
    }
   }
  },
  {
   "cell_type": "code",
   "execution_count": null,
   "outputs": [],
   "source": [
    "top_4 = plot_graphs_location_distribution(new_listing,\"top_4\")"
   ],
   "metadata": {
    "collapsed": false,
    "pycharm": {
     "name": "#%%\n",
     "is_executing": true
    }
   }
  },
  {
   "cell_type": "code",
   "execution_count": null,
   "outputs": [],
   "source": [
    "print(total_apt)"
   ],
   "metadata": {
    "collapsed": false,
    "pycharm": {
     "name": "#%%\n",
     "is_executing": true
    }
   }
  },
  {
   "cell_type": "code",
   "execution_count": null,
   "outputs": [],
   "source": [
    "print(\"Top 4 areas coverage : {:.2f}%\".format(100*top_4.sum().values[1]/total_apt))"
   ],
   "metadata": {
    "collapsed": false,
    "pycharm": {
     "name": "#%%\n",
     "is_executing": true
    }
   }
  },
  {
   "cell_type": "code",
   "execution_count": null,
   "outputs": [],
   "source": [
    "print(list(top_4[\"neighbourhood_group_cleansed\"].unique()))"
   ],
   "metadata": {
    "collapsed": false,
    "pycharm": {
     "name": "#%%\n",
     "is_executing": true
    }
   }
  },
  {
   "cell_type": "markdown",
   "source": [
    "Now we want to check if there is a correlation between the numerical features. To check also the categorical features we need to dummify them."
   ],
   "metadata": {
    "collapsed": false
   }
  },
  {
   "cell_type": "code",
   "execution_count": null,
   "outputs": [],
   "source": [],
   "metadata": {
    "collapsed": false,
    "pycharm": {
     "name": "#%%\n",
     "is_executing": true
    }
   }
  },
  {
   "cell_type": "code",
   "execution_count": null,
   "outputs": [],
   "source": [
    "def correlation_matrix(df,columns,name=\"0\"):\n",
    "    for c in columns:\n",
    "        df[c].fillna(0, inplace=True)\n",
    "        df[c]=df[c].apply(pd.to_numeric, errors='raise')\n",
    "\n",
    "    #Find out correlation between columns and plot\n",
    "    corrs = np.corrcoef(df[columns].values.T)\n",
    "    sns.set(font_scale=1)\n",
    "    sns.set(rc={'figure.figsize':(20,20)})\n",
    "    hm=sns.heatmap(corrs, cbar = True, annot=True, square = True, fmt = '.2f',\n",
    "                  yticklabels = columns, xticklabels = columns).set_title('Correlations heatmap')\n",
    "\n",
    "    fig = hm.get_figure()\n",
    "    fig.savefig('correlations_{}.png'.format(name))\n",
    "    return corrs"
   ],
   "metadata": {
    "collapsed": false,
    "pycharm": {
     "name": "#%%\n",
     "is_executing": true
    }
   }
  },
  {
   "cell_type": "code",
   "execution_count": null,
   "outputs": [],
   "source": [
    "col_corr=[\"accommodates\", \"bathrooms\", \"bedrooms\", \"beds\", \"price\", \"cleaning_fee\", \"guests_included\", \"minimum_nights\", \"maximum_nights\"]#, \"number_of_reviews\", \"review_scores_rating\"]\n",
    "corr_matx=correlation_matrix(listing,col_corr,\"base\")"
   ],
   "metadata": {
    "collapsed": false,
    "pycharm": {
     "name": "#%%\n",
     "is_executing": true
    }
   }
  },
  {
   "cell_type": "code",
   "execution_count": null,
   "outputs": [],
   "source": [
    "sns.set(style = 'whitegrid',context = 'notebook')\n",
    "sns.pairplot(listing[col_corr],height=3)\n",
    "plt.show()"
   ],
   "metadata": {
    "collapsed": false,
    "pycharm": {
     "name": "#%%\n",
     "is_executing": true
    }
   }
  },
  {
   "cell_type": "code",
   "execution_count": null,
   "outputs": [],
   "source": [
    "def find_more_imp_features(df,columns):\n",
    "    X = df[columns]  #independent columns\n",
    "    y = df['price']    #target column i.e price range\n",
    "    from sklearn.ensemble import ExtraTreesClassifier\n",
    "    model = ExtraTreesClassifier()\n",
    "    model.fit(X,y)\n",
    "    print(model.feature_importances_) #use inbuilt class feature_importances of tree based classifiers\n",
    "    #plot graph of feature importances for better visualization\n",
    "    feat_importances = pd.Series(model.feature_importances_, index=X.columns)\n",
    "    feat_importances.nlargest(len(columns)).plot(kind='barh')\n",
    "    plt.show()"
   ],
   "metadata": {
    "collapsed": false,
    "pycharm": {
     "name": "#%%\n",
     "is_executing": true
    }
   }
  },
  {
   "cell_type": "code",
   "execution_count": null,
   "outputs": [],
   "source": [
    "col_corr.remove(\"price\")\n",
    "find_more_imp_features(listing,col_corr)"
   ],
   "metadata": {
    "collapsed": false,
    "pycharm": {
     "name": "#%%\n",
     "is_executing": true
    }
   }
  },
  {
   "cell_type": "code",
   "execution_count": null,
   "outputs": [],
   "source": [
    "def find_top_k_features(df,columns):\n",
    "    from sklearn.feature_selection import SelectKBest\n",
    "    from sklearn.feature_selection import chi2\n",
    "    X = df[columns]  # independent columns\n",
    "    y = df['price']    #target column i.e price range\n",
    "    #apply SelectKBest class to extract top 10 best features\n",
    "    bestfeatures = SelectKBest(score_func=chi2, k=len(columns))\n",
    "    fit = bestfeatures.fit(X,y)\n",
    "    dfscores = pd.DataFrame(fit.scores_)\n",
    "    dfcolumns = pd.DataFrame(X.columns)\n",
    "    #concat two dataframes for better visualization\n",
    "    featureScores = pd.concat([dfcolumns,dfscores],axis=1)\n",
    "    featureScores.columns = ['Specs','Score']  #naming the dataframe columns\n",
    "    print(featureScores.nlargest(len(X),'Score'))  #print 10 best features"
   ],
   "metadata": {
    "collapsed": false,
    "pycharm": {
     "name": "#%%\n",
     "is_executing": true
    }
   }
  },
  {
   "cell_type": "code",
   "execution_count": null,
   "outputs": [],
   "source": [
    "find_top_k_features(listing,col_corr)"
   ],
   "metadata": {
    "collapsed": false,
    "pycharm": {
     "name": "#%%\n",
     "is_executing": true
    }
   }
  },
  {
   "cell_type": "code",
   "execution_count": null,
   "outputs": [],
   "source": [
    "def train_linear_model(listing,col_corr):\n",
    "    X_train, X_test, y_train, y_test = train_test_split(listing[col_corr], listing['price'], test_size = 0.25, random_state=1)\n",
    "    model = linear_model.LinearRegression()\n",
    "    model.fit(X_train, y_train)\n",
    "    y_train_pred = model.predict(X_train)\n",
    "    y_test_pred = model.predict(X_test)\n",
    "    r2_test = r2_score(y_test,y_test_pred)\n",
    "    print(\"R2 error: {}\".format(r2_test))\n",
    "    # plot residuals\n",
    "    plt.scatter(y_train_pred,  y_train_pred - y_train,\n",
    "                c='blue', marker='o', label='Training data')\n",
    "    plt.scatter(y_test_pred,  y_test_pred - y_test,\n",
    "                c='lightgreen', marker='s', label='Test data')\n",
    "    plt.xlabel('Predicted values')\n",
    "    plt.ylabel('Residuals')\n",
    "    plt.legend(loc='upper left')\n",
    "    plt.show()\n"
   ],
   "metadata": {
    "collapsed": false,
    "pycharm": {
     "name": "#%%\n",
     "is_executing": true
    }
   }
  },
  {
   "cell_type": "code",
   "execution_count": null,
   "outputs": [],
   "source": [
    "train_linear_model(listing,col_corr)"
   ],
   "metadata": {
    "collapsed": false,
    "pycharm": {
     "name": "#%%\n",
     "is_executing": true
    }
   }
  },
  {
   "cell_type": "markdown",
   "source": [
    "Extract the information from the amenities list to check if some of them are important factors to determine the price"
   ],
   "metadata": {
    "collapsed": false
   }
  },
  {
   "cell_type": "code",
   "execution_count": null,
   "outputs": [],
   "source": [
    "def plot_distribution(dataset,columns):\n",
    "    import math\n",
    "    columns_graph = 3\n",
    "    fig, axes = plt.subplots(math.ceil(len(columns)/columns_graph), columns_graph,figsize=(30, 12), sharey=False)\n",
    "    fig.suptitle('Data distribution in the dataset')\n",
    "    t=-1\n",
    "    for i,c in enumerate(columns):\n",
    "        if i%columns_graph == 0:\n",
    "            t+=1\n",
    "        sns.histplot(ax=axes[t, i%columns_graph], data=dataset[c])\n",
    "        #axes[t, i%columns_graph].set_title(c)\n",
    "\n",
    "    plt.show()"
   ],
   "metadata": {
    "collapsed": false,
    "pycharm": {
     "name": "#%%\n",
     "is_executing": true
    }
   }
  },
  {
   "cell_type": "code",
   "execution_count": null,
   "outputs": [],
   "source": [
    "#from scipy import stats\n",
    "#col=col_corr.copy()\n",
    "#col.append(\"price\")\n",
    "#new_l=listing[col].copy()\n",
    "#train_linear_model(new_l[(np.abs(stats.zscore(new_l)) < 3).all(axis=1)],col_corr)"
   ],
   "metadata": {
    "collapsed": false,
    "pycharm": {
     "name": "#%%\n",
     "is_executing": true
    }
   }
  },
  {
   "cell_type": "code",
   "execution_count": null,
   "outputs": [],
   "source": [
    "#plot_distribution(listing,col)"
   ],
   "metadata": {
    "collapsed": false,
    "pycharm": {
     "name": "#%%\n",
     "is_executing": true
    }
   }
  },
  {
   "cell_type": "code",
   "execution_count": null,
   "outputs": [],
   "source": [
    "#new_l[(np.abs(stats.zscore(new_l)) < 3).all(axis=1)]"
   ],
   "metadata": {
    "collapsed": false,
    "pycharm": {
     "name": "#%%\n",
     "is_executing": true
    }
   }
  },
  {
   "cell_type": "code",
   "execution_count": null,
   "outputs": [],
   "source": [
    "#plot_distribution(new_l[(np.abs(stats.zscore(new_l)) < 5).all(axis=1)],col)"
   ],
   "metadata": {
    "collapsed": false,
    "pycharm": {
     "name": "#%%\n",
     "is_executing": true
    }
   }
  },
  {
   "cell_type": "code",
   "execution_count": null,
   "outputs": [],
   "source": [],
   "metadata": {
    "collapsed": false,
    "pycharm": {
     "name": "#%%\n",
     "is_executing": true
    }
   }
  },
  {
   "cell_type": "code",
   "execution_count": null,
   "outputs": [],
   "source": [],
   "metadata": {
    "collapsed": false,
    "pycharm": {
     "name": "#%%\n",
     "is_executing": true
    }
   }
  },
  {
   "cell_type": "code",
   "execution_count": null,
   "outputs": [],
   "source": [],
   "metadata": {
    "collapsed": false,
    "pycharm": {
     "name": "#%%\n",
     "is_executing": true
    }
   }
  },
  {
   "cell_type": "code",
   "execution_count": null,
   "outputs": [],
   "source": [
    "import re\n",
    "amenities=pd.DataFrame()\n",
    "amenities=listing[['id','amenities']]\n",
    "amenities=amenities.set_index('id')\n",
    "amenities['amenities'] = amenities['amenities'].apply(lambda x: re.sub('[{}]', '', x))\n",
    "amenities['amenities'] = amenities['amenities'].apply(lambda x: re.sub('\"', '', x))\n",
    "amenities.head()"
   ],
   "metadata": {
    "collapsed": false,
    "pycharm": {
     "name": "#%%\n",
     "is_executing": true
    }
   }
  },
  {
   "cell_type": "code",
   "execution_count": null,
   "outputs": [],
   "source": [
    "dumm_variables_df = amenities['amenities'].str.get_dummies(sep=',')\n",
    "dumm_variables_df"
   ],
   "metadata": {
    "collapsed": false,
    "pycharm": {
     "name": "#%%\n",
     "is_executing": true
    }
   }
  },
  {
   "cell_type": "code",
   "execution_count": null,
   "outputs": [],
   "source": [
    "id_price_df = listing[[\"id\",\"price\"]].set_index(\"id\")\n",
    "joint_amenities=pd.concat([id_price_df,dumm_variables_df], axis=1, join='inner')\n",
    "joint_amenities.head()"
   ],
   "metadata": {
    "collapsed": false,
    "pycharm": {
     "name": "#%%\n",
     "is_executing": true
    }
   }
  },
  {
   "cell_type": "code",
   "execution_count": null,
   "outputs": [],
   "source": [
    "amenities_sum_df=dumm_variables_df.sum().sort_values(ascending=False).reset_index()\n",
    "amenities_sum_df.head()"
   ],
   "metadata": {
    "collapsed": false,
    "pycharm": {
     "name": "#%%\n",
     "is_executing": true
    }
   }
  },
  {
   "cell_type": "code",
   "execution_count": null,
   "outputs": [],
   "source": [
    "fig, ax = plt.subplots(figsize=(25,12))\n",
    "rgb_values = sns.color_palette(cc.glasbey, len(amenities_sum_df))\n",
    "ax.bar(amenities_sum_df['index'], amenities_sum_df[0], color=rgb_values)\n",
    "ax.set_xlabel('Amenities')\n",
    "ax.set_ylabel('# of Amenities')\n",
    "ax.set_title('Distribution in the dataset')\n",
    "plt.xticks(rotation=45,ha='right')\n",
    "plt.show()"
   ],
   "metadata": {
    "collapsed": false,
    "pycharm": {
     "name": "#%%\n",
     "is_executing": true
    }
   }
  },
  {
   "cell_type": "code",
   "execution_count": null,
   "outputs": [],
   "source": [
    "coulms_list = list(joint_amenities)\n",
    "c_matrix=correlation_matrix(joint_amenities,coulms_list,\"base\")"
   ],
   "metadata": {
    "collapsed": false,
    "pycharm": {
     "name": "#%%\n",
     "is_executing": true
    }
   }
  },
  {
   "cell_type": "code",
   "execution_count": null,
   "outputs": [],
   "source": [
    "list_no_price=coulms_list.copy()\n",
    "list_no_price.remove(\"price\")\n",
    "x=find_more_imp_features(joint_amenities,list_no_price)"
   ],
   "metadata": {
    "collapsed": false,
    "pycharm": {
     "name": "#%%\n",
     "is_executing": true
    }
   }
  },
  {
   "cell_type": "code",
   "execution_count": null,
   "outputs": [],
   "source": [
    "find_top_k_features(joint_amenities,list_no_price)"
   ],
   "metadata": {
    "collapsed": false,
    "pycharm": {
     "name": "#%%\n",
     "is_executing": true
    }
   }
  },
  {
   "cell_type": "code",
   "execution_count": null,
   "outputs": [],
   "source": [
    "train_linear_model(joint_amenities,list_no_price)"
   ],
   "metadata": {
    "collapsed": false,
    "pycharm": {
     "name": "#%%\n",
     "is_executing": true
    }
   }
  },
  {
   "cell_type": "code",
   "execution_count": null,
   "outputs": [],
   "source": [],
   "metadata": {
    "collapsed": false,
    "pycharm": {
     "name": "#%%\n",
     "is_executing": true
    }
   }
  },
  {
   "cell_type": "code",
   "execution_count": null,
   "outputs": [],
   "source": [],
   "metadata": {
    "collapsed": false,
    "pycharm": {
     "name": "#%%\n",
     "is_executing": true
    }
   }
  }
 ],
 "metadata": {
  "kernelspec": {
   "display_name": "Python 3",
   "language": "python",
   "name": "python3"
  },
  "language_info": {
   "codemirror_mode": {
    "name": "ipython",
    "version": 2
   },
   "file_extension": ".py",
   "mimetype": "text/x-python",
   "name": "python",
   "nbconvert_exporter": "python",
   "pygments_lexer": "ipython2",
   "version": "2.7.6"
  }
 },
 "nbformat": 4,
 "nbformat_minor": 0
}